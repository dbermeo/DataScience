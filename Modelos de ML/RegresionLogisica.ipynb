{
 "cells": [
  {
   "cell_type": "code",
   "execution_count": 1,
   "id": "a6199d17-ca12-4879-9aa1-38bab85ddd66",
   "metadata": {},
   "outputs": [],
   "source": [
    "import pandas as pd\n",
    "import numpy as np\n",
    "from sklearn.linear_model import LogisticRegression\n",
    "from sklearn.metrics import confusion_matrix\n",
    "import matplotlib.pyplot as plt\n",
    "df=pd.read_csv(\"D:/Windows/User/Documentos/ciencia de datos/Recursos/2008.csv\")"
   ]
  },
  {
   "cell_type": "code",
   "execution_count": 5,
   "id": "55537f08-3a03-4000-a32c-e7a5163ba760",
   "metadata": {},
   "outputs": [],
   "source": [
    "df=df.dropna(subset=['ArrDelay'])\n",
    "df=df.sample(frac=1).head(100000)\n",
    "Y=df['ArrDelay']<30\n",
    "X=df[['DepDelay']]\n"
   ]
  },
  {
   "cell_type": "code",
   "execution_count": 6,
   "id": "eb10e37a-671b-46f3-9d02-fd5e2fd013cf",
   "metadata": {},
   "outputs": [],
   "source": [
    "logreg=LogisticRegression()\n",
    "logreg.fit(X,Y)\n",
    "Y_pred=logreg.predict(X)"
   ]
  },
  {
   "cell_type": "code",
   "execution_count": 8,
   "id": "75d9252b-3f3c-4d8b-a81e-16196d7fd9b6",
   "metadata": {},
   "outputs": [
    {
     "data": {
      "text/plain": [
       "array([1., 1., 1., ..., 1., 1., 1.], dtype=float16)"
      ]
     },
     "execution_count": 8,
     "metadata": {},
     "output_type": "execute_result"
    }
   ],
   "source": [
    "np.round(logreg.predict(X))"
   ]
  },
  {
   "cell_type": "code",
   "execution_count": 9,
   "id": "74865bd0-146e-4d66-b131-8ba20cf60548",
   "metadata": {},
   "outputs": [
    {
     "data": {
      "text/plain": [
       "0.95657"
      ]
     },
     "execution_count": 9,
     "metadata": {},
     "output_type": "execute_result"
    }
   ],
   "source": [
    "np.mean(Y_pred==Y)"
   ]
  },
  {
   "cell_type": "code",
   "execution_count": 10,
   "id": "9e3e97b0-52db-4d40-a2fd-b25f5d2c0bc7",
   "metadata": {},
   "outputs": [
    {
     "data": {
      "text/plain": [
       "0.86308"
      ]
     },
     "execution_count": 10,
     "metadata": {},
     "output_type": "execute_result"
    }
   ],
   "source": [
    "np.mean(Y)"
   ]
  },
  {
   "cell_type": "code",
   "execution_count": 11,
   "id": "c24fbc8b-e6e3-46a6-a3c8-da2723277dcf",
   "metadata": {},
   "outputs": [
    {
     "name": "stdout",
     "output_type": "stream",
     "text": [
      "[[10339  3353]\n",
      " [  990 85318]]\n"
     ]
    }
   ],
   "source": [
    "confusion_matrix=confusion_matrix(Y,Y_pred)\n",
    "print(confusion_matrix)"
   ]
  },
  {
   "cell_type": "code",
   "execution_count": null,
   "id": "16de7135-ba0d-47c6-b6f5-30b2f420bbb1",
   "metadata": {},
   "outputs": [],
   "source": []
  }
 ],
 "metadata": {
  "kernelspec": {
   "display_name": "Python 3",
   "language": "python",
   "name": "python3"
  },
  "language_info": {
   "codemirror_mode": {
    "name": "ipython",
    "version": 3
   },
   "file_extension": ".py",
   "mimetype": "text/x-python",
   "name": "python",
   "nbconvert_exporter": "python",
   "pygments_lexer": "ipython3",
   "version": "3.8.5"
  }
 },
 "nbformat": 4,
 "nbformat_minor": 5
}
