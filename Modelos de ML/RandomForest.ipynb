{
 "cells": [
  {
   "cell_type": "code",
   "execution_count": 1,
   "id": "c68050e9-ed39-4043-a39c-f025daeb6c27",
   "metadata": {},
   "outputs": [],
   "source": [
    "import pandas as pd\n",
    "import numpy as np\n",
    "from sklearn import tree\n",
    "from sklearn.ensemble import RandomForestClassifier\n",
    "\n",
    "from sklearn.metrics import r2_score\n",
    "\n",
    "import matplotlib.pyplot as plt\n",
    "df=pd.read_csv(\"D:/Windows/User/Documentos/ciencia de datos/Recursos/2008.csv\")\n",
    "df=df.dropna(subset=['ArrDelay'])\n",
    "df=df.sample(frac=1)\n",
    "dftest=df.tail(500000)\n",
    "df=df.head(500000)"
   ]
  },
  {
   "cell_type": "code",
   "execution_count": 2,
   "id": "52fb597f-a809-4e49-b670-f49a1dcb1167",
   "metadata": {},
   "outputs": [],
   "source": [
    "clf=tree.DecisionTreeClassifier()\n",
    "X=df[['Distance','AirTime','DepTime','TaxiIn','TaxiOut','DepDelay']]\n",
    "X_test=dftest[['Distance','AirTime','DepTime','TaxiIn','TaxiOut','DepDelay']]\n",
    "Y=df['ArrDelay']>10\n",
    "Y_test=dftest['ArrDelay']>10\n",
    "\n",
    "clf=clf.fit(X,Y)\n",
    "Y_pred_test=clf.predict(X_test)"
   ]
  },
  {
   "cell_type": "code",
   "execution_count": 4,
   "id": "aef87d2f-ed59-4d5d-ae99-69d6b24e73eb",
   "metadata": {},
   "outputs": [
    {
     "data": {
      "text/plain": [
       "0.893022"
      ]
     },
     "execution_count": 4,
     "metadata": {},
     "output_type": "execute_result"
    }
   ],
   "source": [
    "np.mean(Y_test==Y_pred_test)"
   ]
  },
  {
   "cell_type": "code",
   "execution_count": 6,
   "id": "3e141f30-086b-452d-a522-e1e0b6e7006f",
   "metadata": {},
   "outputs": [
    {
     "data": {
      "text/plain": [
       "array([0.09216743, 0.08167923, 0.08234468, 0.05073788, 0.13302306,\n",
       "       0.56004771])"
      ]
     },
     "execution_count": 6,
     "metadata": {},
     "output_type": "execute_result"
    }
   ],
   "source": [
    "clf=RandomForestClassifier(n_estimators=100,n_jobs=-1)\n",
    "clf.fit(X,Y)\n",
    "Y_pred_test=clf.predict(X_test)\n",
    "clf.feature_importances_"
   ]
  },
  {
   "cell_type": "code",
   "execution_count": 7,
   "id": "a8a6ec0b-c806-4f19-8b63-b4fb19913e3e",
   "metadata": {},
   "outputs": [
    {
     "data": {
      "text/plain": [
       "0.923908"
      ]
     },
     "execution_count": 7,
     "metadata": {},
     "output_type": "execute_result"
    }
   ],
   "source": [
    "np.mean(Y_test==Y_pred_test)"
   ]
  },
  {
   "cell_type": "code",
   "execution_count": null,
   "id": "13818838-2408-4a6f-a842-221342fc1496",
   "metadata": {},
   "outputs": [],
   "source": []
  }
 ],
 "metadata": {
  "kernelspec": {
   "display_name": "Python 3",
   "language": "python",
   "name": "python3"
  },
  "language_info": {
   "codemirror_mode": {
    "name": "ipython",
    "version": 3
   },
   "file_extension": ".py",
   "mimetype": "text/x-python",
   "name": "python",
   "nbconvert_exporter": "python",
   "pygments_lexer": "ipython3",
   "version": "3.8.5"
  }
 },
 "nbformat": 4,
 "nbformat_minor": 5
}
