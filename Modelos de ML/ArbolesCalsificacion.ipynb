{
 "cells": [
  {
   "cell_type": "code",
   "execution_count": 13,
   "id": "8f8edb21-7ce2-4f4e-bfc1-e272fbd652ed",
   "metadata": {},
   "outputs": [],
   "source": [
    "import pandas as pd\n",
    "import numpy as np\n",
    "from sklearn import tree\n",
    "from sklearn.metrics import r2_score\n",
    "\n",
    "import matplotlib.pyplot as plt\n",
    "df=pd.read_csv(\"D:/Windows/User/Documentos/ciencia de datos/Recursos/2008.csv\")\n",
    "df=df.dropna(subset=['ArrDelay'])\n",
    "df=df.sample(frac=1)\n",
    "dftest=df.tail(500000)\n",
    "df=df.head(500000)"
   ]
  },
  {
   "cell_type": "code",
   "execution_count": 14,
   "id": "c2e514d9-f325-41eb-b090-93b46ec07bb7",
   "metadata": {},
   "outputs": [],
   "source": [
    "clf=tree.DecisionTreeClassifier()\n",
    "X=df[['Distance','AirTime','DepTime','TaxiIn','TaxiOut','DepDelay']]\n",
    "X_test=dftest[['Distance','AirTime','DepTime','TaxiIn','TaxiOut','DepDelay']]\n",
    "Y=df['ArrDelay']>10\n",
    "Y_test=dftest['ArrDelay']>10\n",
    "\n",
    "clf=clf.fit(X,Y)\n",
    "Y_pred=clf.predict(X)\n",
    "Y_pred_test=clf.predict(X_test)\n"
   ]
  },
  {
   "cell_type": "code",
   "execution_count": 15,
   "id": "607caad1-6845-4ec1-9f0d-4b2ee7641c52",
   "metadata": {},
   "outputs": [
    {
     "data": {
      "text/plain": [
       "1.0"
      ]
     },
     "execution_count": 15,
     "metadata": {},
     "output_type": "execute_result"
    }
   ],
   "source": [
    "np.mean(Y==Y_pred)"
   ]
  },
  {
   "cell_type": "code",
   "execution_count": 16,
   "id": "414a3e15-3bac-4740-96a6-50eac847ca65",
   "metadata": {},
   "outputs": [
    {
     "data": {
      "text/plain": [
       "0.893122"
      ]
     },
     "execution_count": 16,
     "metadata": {},
     "output_type": "execute_result"
    }
   ],
   "source": [
    "np.mean(Y_test==Y_pred_test)"
   ]
  },
  {
   "cell_type": "code",
   "execution_count": 17,
   "id": "62e0a0c0-f6f5-4669-a5db-fcc2813f1d42",
   "metadata": {},
   "outputs": [],
   "source": [
    "clf=tree.DecisionTreeRegressor()\n",
    "Y=df['ArrDelay']\n",
    "Y_test=dftest[\"ArrDelay\"]"
   ]
  },
  {
   "cell_type": "code",
   "execution_count": null,
   "id": "6fce0f57-4f67-443f-af41-df1c764abb62",
   "metadata": {},
   "outputs": [],
   "source": [
    "                                                                                                              "
   ]
  }
 ],
 "metadata": {
  "kernelspec": {
   "display_name": "Python 3",
   "language": "python",
   "name": "python3"
  },
  "language_info": {
   "codemirror_mode": {
    "name": "ipython",
    "version": 3
   },
   "file_extension": ".py",
   "mimetype": "text/x-python",
   "name": "python",
   "nbconvert_exporter": "python",
   "pygments_lexer": "ipython3",
   "version": "3.8.5"
  }
 },
 "nbformat": 4,
 "nbformat_minor": 5
}
