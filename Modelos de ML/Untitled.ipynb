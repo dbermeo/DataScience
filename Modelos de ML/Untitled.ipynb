{
 "cells": [
  {
   "cell_type": "code",
   "execution_count": 2,
   "id": "6ef82144-e1c4-4a8b-bccc-0850cce014f8",
   "metadata": {},
   "outputs": [],
   "source": [
    "import pandas as pd\n",
    "import numpy as np\n",
    "from sklearn.neighbors import KNeighborsClassifier"
   ]
  },
  {
   "cell_type": "code",
   "execution_count": 3,
   "id": "4913084b-addd-479c-aa28-e81073ea4aa8",
   "metadata": {},
   "outputs": [],
   "source": [
    "df=pd.read_csv(\"D:/Windows/User/Documentos/ciencia de datos/Recursos/2008.csv\",nrows=1e6)\n"
   ]
  },
  {
   "cell_type": "code",
   "execution_count": 5,
   "id": "7c41a507-8abb-4c54-82de-ed49c17ab7e4",
   "metadata": {},
   "outputs": [],
   "source": [
    "newdf=df[['AirTime','Distance','TaxiOut','ArrDelay']].dropna()\n",
    "cols=newdf[newdf.columns[newdf.columns != 'ArrDelay']]"
   ]
  },
  {
   "cell_type": "code",
   "execution_count": 9,
   "id": "e8b2ec0f-9094-487b-ae95-9f37ccd7af66",
   "metadata": {},
   "outputs": [],
   "source": [
    "filtro=newdf[\"ArrDelay\"]>10"
   ]
  },
  {
   "cell_type": "code",
   "execution_count": 11,
   "id": "401ac96b-a595-4ead-a51d-36380d6726d9",
   "metadata": {},
   "outputs": [],
   "source": [
    "newdf[\"ArrDelay\"][filtro]=\"Delayed\"\n",
    "newdf[\"ArrDelay\"][filtro==False]=\"not Delayed\"\n"
   ]
  },
  {
   "cell_type": "code",
   "execution_count": 12,
   "id": "45f18597-e028-446e-882e-7123af08c1b6",
   "metadata": {},
   "outputs": [
    {
     "data": {
      "text/plain": [
       "0    not Delayed\n",
       "1    not Delayed\n",
       "2        Delayed\n",
       "3    not Delayed\n",
       "4        Delayed\n",
       "Name: ArrDelay, dtype: object"
      ]
     },
     "execution_count": 12,
     "metadata": {},
     "output_type": "execute_result"
    }
   ],
   "source": [
    "newdf['ArrDelay'].head()"
   ]
  },
  {
   "cell_type": "code",
   "execution_count": 13,
   "id": "c493d8b6-c57a-4f1f-bc78-51581b854f03",
   "metadata": {},
   "outputs": [],
   "source": [
    "nbrs_3=KNeighborsClassifier(n_neighbors=3,n_jobs=-1)"
   ]
  },
  {
   "cell_type": "code",
   "execution_count": 14,
   "id": "bcd405e9-b3e9-4de6-8c30-1dabe04980d1",
   "metadata": {},
   "outputs": [
    {
     "data": {
      "text/plain": [
       "KNeighborsClassifier(n_jobs=-1, n_neighbors=3)"
      ]
     },
     "execution_count": 14,
     "metadata": {},
     "output_type": "execute_result"
    }
   ],
   "source": [
    "nbrs_3.fit(cols,newdf['ArrDelay'])"
   ]
  },
  {
   "cell_type": "code",
   "execution_count": 15,
   "id": "33a2bebc-56bd-40e2-b3fd-e4242693ee7a",
   "metadata": {},
   "outputs": [],
   "source": [
    "predecciones_3=nbrs_3.predict(cols)"
   ]
  },
  {
   "cell_type": "code",
   "execution_count": 16,
   "id": "3da24207-d0b2-46b9-b1e8-32804d146fd5",
   "metadata": {},
   "outputs": [
    {
     "data": {
      "text/plain": [
       "0.8040059625362947"
      ]
     },
     "execution_count": 16,
     "metadata": {},
     "output_type": "execute_result"
    }
   ],
   "source": [
    "np.mean(predecciones_3==newdf['ArrDelay'])"
   ]
  },
  {
   "cell_type": "code",
   "execution_count": 17,
   "id": "c6c655dc-a501-4096-b510-2a9d045ca92d",
   "metadata": {},
   "outputs": [
    {
     "data": {
      "text/plain": [
       "0.7588601569775452"
      ]
     },
     "execution_count": 17,
     "metadata": {},
     "output_type": "execute_result"
    }
   ],
   "source": [
    "np.mean(predecciones_3=='not Delayed')"
   ]
  },
  {
   "cell_type": "code",
   "execution_count": 22,
   "id": "0c601310-878c-472b-8dba-07f3fcea79b4",
   "metadata": {},
   "outputs": [
    {
     "data": {
      "text/plain": [
       "0.8346359548396921"
      ]
     },
     "execution_count": 22,
     "metadata": {},
     "output_type": "execute_result"
    }
   ],
   "source": [
    "nbrs_1=KNeighborsClassifier(n_neighbors=1,n_jobs=-1)\n",
    "nbrs_1.fit(cols,newdf['ArrDelay'])\n",
    "predicciones_1=nbrs_1.predict(cols)\n",
    "np.mean(predicciones_1==newdf['ArrDelay'])"
   ]
  },
  {
   "cell_type": "code",
   "execution_count": 24,
   "id": "8ab3f28b-9f8b-4a3a-9a06-88dbd774ef6a",
   "metadata": {},
   "outputs": [
    {
     "data": {
      "text/plain": [
       "0.6912450368307814"
      ]
     },
     "execution_count": 24,
     "metadata": {},
     "output_type": "execute_result"
    }
   ],
   "source": [
    "np.mean(newdf['ArrDelay']=='not Delayed')"
   ]
  },
  {
   "cell_type": "code",
   "execution_count": 29,
   "id": "b43151cc-43aa-481f-816e-a4c5c6d219d7",
   "metadata": {},
   "outputs": [
    {
     "name": "stdout",
     "output_type": "stream",
     "text": [
      "[[218051  80009]\n",
      " [ 79627 587674]]\n"
     ]
    }
   ],
   "source": [
    "from sklearn.metrics import confusion_matrix\n",
    "confusion_matrix=confusion_matrix(newdf['ArrDelay'],predicciones_1)\n",
    "print(confusion_matrix)"
   ]
  },
  {
   "cell_type": "code",
   "execution_count": null,
   "id": "60aa55b5-460b-44ce-b974-06b298748690",
   "metadata": {},
   "outputs": [],
   "source": []
  }
 ],
 "metadata": {
  "kernelspec": {
   "display_name": "Python 3",
   "language": "python",
   "name": "python3"
  },
  "language_info": {
   "codemirror_mode": {
    "name": "ipython",
    "version": 3
   },
   "file_extension": ".py",
   "mimetype": "text/x-python",
   "name": "python",
   "nbconvert_exporter": "python",
   "pygments_lexer": "ipython3",
   "version": "3.8.5"
  }
 },
 "nbformat": 4,
 "nbformat_minor": 5
}
