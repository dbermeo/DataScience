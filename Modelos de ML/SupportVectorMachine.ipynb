{
 "cells": [
  {
   "cell_type": "code",
   "execution_count": 2,
   "id": "0d86a65d-737d-4ffc-a65a-c63aaa7e82fd",
   "metadata": {},
   "outputs": [],
   "source": [
    "import pandas as pd\n",
    "import numpy as np\n",
    "from sklearn.svm import SVC\n",
    "\n",
    "\n",
    "\n",
    "\n",
    "import matplotlib.pyplot as plt\n",
    "df=pd.read_csv(\"D:/Windows/User/Documentos/ciencia de datos/Recursos/2008.csv\")\n",
    "df=df.dropna(subset=['ArrDelay'])\n",
    "df=df.sample(frac=1)\n",
    "dftest=df.tail(1000)\n",
    "df=df.head(1000)"
   ]
  },
  {
   "cell_type": "code",
   "execution_count": 3,
   "id": "a1dffa2e-0913-4f75-8120-f38e9fd9f90e",
   "metadata": {},
   "outputs": [],
   "source": [
    "X=df[['Distance','AirTime','DepTime','TaxiIn','TaxiOut','DepDelay']]\n",
    "X_test=dftest[['Distance','AirTime','DepTime','TaxiIn','TaxiOut','DepDelay']]\n",
    "Y=df['ArrDelay']>10\n",
    "Y_test=dftest['ArrDelay']>10\n",
    "\n",
    "clf=SVC(kernel='linear')\n",
    "clf=clf.fit(X,Y)\n",
    "Y_pred=clf.predict(X_test)"
   ]
  },
  {
   "cell_type": "code",
   "execution_count": 4,
   "id": "d970a98f-4ecf-4f12-bd37-8414ac5661dc",
   "metadata": {},
   "outputs": [
    {
     "data": {
      "text/plain": [
       "0.919"
      ]
     },
     "execution_count": 4,
     "metadata": {},
     "output_type": "execute_result"
    }
   ],
   "source": [
    "np.mean(Y_pred==Y_test)"
   ]
  },
  {
   "cell_type": "code",
   "execution_count": null,
   "id": "b83277bf-17ab-4c2e-9ef4-e5ddc240160c",
   "metadata": {},
   "outputs": [],
   "source": []
  }
 ],
 "metadata": {
  "kernelspec": {
   "display_name": "Python 3",
   "language": "python",
   "name": "python3"
  },
  "language_info": {
   "codemirror_mode": {
    "name": "ipython",
    "version": 3
   },
   "file_extension": ".py",
   "mimetype": "text/x-python",
   "name": "python",
   "nbconvert_exporter": "python",
   "pygments_lexer": "ipython3",
   "version": "3.8.5"
  }
 },
 "nbformat": 4,
 "nbformat_minor": 5
}
